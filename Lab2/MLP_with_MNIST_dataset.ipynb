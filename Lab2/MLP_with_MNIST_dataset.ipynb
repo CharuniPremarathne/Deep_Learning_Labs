{
  "cells": [
    {
      "cell_type": "markdown",
      "metadata": {
        "id": "view-in-github",
        "colab_type": "text"
      },
      "source": [
        "<a href=\"https://colab.research.google.com/github/CharuniPremarathne/Deep_Learning_Labs/blob/main/Lab2/MLP_with_MNIST_dataset.ipynb\" target=\"_parent\"><img src=\"https://colab.research.google.com/assets/colab-badge.svg\" alt=\"Open In Colab\"/></a>"
      ]
    },
    {
      "cell_type": "code",
      "source": [
        "#import libraries\n",
        "from tensorflow.keras.datasets import mnist\n",
        "from tensorflow.keras.models import Sequential\n",
        "from tensorflow.keras.layers import Dense,Flatten\n",
        "from tensorflow.keras.utils import to_categorical\n",
        "from matplotlib import pyplot as plt\n",
        "import numpy as np\n"
      ],
      "metadata": {
        "id": "wncjuHKsOtkf"
      },
      "execution_count": 6,
      "outputs": []
    },
    {
      "cell_type": "markdown",
      "source": [
        "Load the MNIST dataset"
      ],
      "metadata": {
        "id": "vOlspUx0PCa_"
      }
    },
    {
      "cell_type": "code",
      "execution_count": 7,
      "metadata": {
        "colab": {
          "base_uri": "https://localhost:8080/"
        },
        "id": "9UOZdBlgE9jJ",
        "outputId": "1188dc01-c59a-475c-d599-9c26413a4af7"
      },
      "outputs": [
        {
          "output_type": "stream",
          "name": "stdout",
          "text": [
            "Downloading data from https://storage.googleapis.com/tensorflow/tf-keras-datasets/mnist.npz\n",
            "11490434/11490434 [==============================] - 0s 0us/step\n"
          ]
        }
      ],
      "source": [
        "(train_data,train_target),(test_data,test_target) = mnist.load_data()"
      ]
    },
    {
      "cell_type": "markdown",
      "source": [
        "Visualize the dataset"
      ],
      "metadata": {
        "id": "RociFxvNPi_w"
      }
    },
    {
      "cell_type": "code",
      "source": [
        "fig, axs = plt.subplots(2, 5, figsize=(16,8))\n",
        "random_numbers = np.random.randint(0, 60000, 10)\n",
        "print('Target labels: ',train_target[random_numbers])\n",
        "for idx, ax in enumerate(axs.ravel()):\n",
        "    ax.imshow(train_data[random_numbers[idx]],cmap='gray')\n",
        "plt.show()"
      ],
      "metadata": {
        "colab": {
          "base_uri": "https://localhost:8080/",
          "height": 549
        },
        "id": "FEmN0CXzQ0r0",
        "outputId": "d1675436-f506-4cb0-ff94-b00e8aebb82c"
      },
      "execution_count": 8,
      "outputs": [
        {
          "output_type": "stream",
          "name": "stdout",
          "text": [
            "Target labels:  [6 3 0 7 6 8 6 2 1 1]\n"
          ]
        },
        {
          "output_type": "display_data",
          "data": {
            "text/plain": [
              "<Figure size 1600x800 with 10 Axes>"
            ],
            "image/png": "[encoded data removed]"
          },
          "metadata": {}
        }
      ]
    },
    {
      "cell_type": "markdown",
      "source": [
        "Pre-processing stage"
      ],
      "metadata": {
        "id": "YxaTSaecPUf9"
      }
    },
    {
      "cell_type": "code",
      "source": [
        "new_train_data = train_data/255.0\n",
        "new_test_data=test_data/255.0\n",
        "\n",
        "new_train_target = to_categorical(train_target)\n",
        "new_test_target = to_categorical(test_target)"
      ],
      "metadata": {
        "id": "wWPOLNMVPTRv"
      },
      "execution_count": 9,
      "outputs": []
    },
    {
      "cell_type": "markdown",
      "source": [
        "Create the Model architecture"
      ],
      "metadata": {
        "id": "ZSLECSQfPKPH"
      }
    },
    {
      "cell_type": "code",
      "execution_count": 12,
      "metadata": {
        "id": "enx5PvLWE9jM"
      },
      "outputs": [],
      "source": [
        "model=Sequential()\n",
        "\n",
        "model.add(Flatten(input_shape=(28,28)))\n",
        "\n",
        "model.add(Dense(64,activation='relu'))\n",
        "model.add(Dense(64,input_dim=64,activation='relu'))\n",
        "model.add(Dense(32,input_dim=64,activation='relu'))\n",
        "model.add(Dense(10,input_dim=32,activation='softmax'))\n",
        "model.compile(loss='categorical_crossentropy',optimizer='adam',metrics=['accuracy'])"
      ]
    },
    {
      "cell_type": "code",
      "source": [
        "from keras.models import Sequential\n",
        "from keras.layers import Dense, Flatten\n",
        "from keras.regularizers import l1_l2\n",
        "\n",
        "# Create a sequential model\n",
        "model = Sequential()\n",
        "\n",
        "# Add the layers with L1 and L2 regularization\n",
        "model.add(Flatten(input_shape=(28, 28)))\n",
        "\n",
        "model.add(Dense(64, activation='relu', kernel_regularizer=l1_l2(l1=0.01, l2=0.01)))\n",
        "model.add(Dense(64, activation='relu', kernel_regularizer=l1_l2(l1=0.01, l2=0.01)))\n",
        "model.add(Dense(32, activation='relu', kernel_regularizer=l1_l2(l1=0.01, l2=0.01)))\n",
        "model.add(Dense(10, activation='softmax', kernel_regularizer=l1_l2(l1=0.01, l2=0.01)))\n",
        "\n",
        "# Compile the model\n",
        "model.compile(loss='categorical_crossentropy', optimizer='adam', metrics=['accuracy'])\n"
      ],
      "metadata": {
        "id": "A1c15nCXegmf"
      },
      "execution_count": 1,
      "outputs": []
    },
    {
      "cell_type": "code",
      "source": [
        "model.summary()"
      ],
      "metadata": {
        "colab": {
          "base_uri": "https://localhost:8080/"
        },
        "id": "TlqK33oVPP1X",
        "outputId": "b16ca730-3366-468c-d176-8184bde17e9c"
      },
      "execution_count": 2,
      "outputs": [
        {
          "output_type": "stream",
          "name": "stdout",
          "text": [
            "Model: \"sequential\"\n",
            "_________________________________________________________________\n",
            " Layer (type)                Output Shape              Param #   \n",
            "=================================================================\n",
            " flatten (Flatten)           (None, 784)               0         \n",
            "                                                                 \n",
            " dense (Dense)               (None, 64)                50240     \n",
            "                                                                 \n",
            " dense_1 (Dense)             (None, 64)                4160      \n",
            "                                                                 \n",
            " dense_2 (Dense)             (None, 32)                2080      \n",
            "                                                                 \n",
            " dense_3 (Dense)             (None, 10)                330       \n",
            "                                                                 \n",
            "=================================================================\n",
            "Total params: 56,810\n",
            "Trainable params: 56,810\n",
            "Non-trainable params: 0\n",
            "_________________________________________________________________\n"
          ]
        }
      ]
    },
    {
      "cell_type": "markdown",
      "source": [
        "Train the model"
      ],
      "metadata": {
        "id": "9WYHu5ILSfNf"
      }
    },
    {
      "cell_type": "code",
      "execution_count": 10,
      "metadata": {
        "colab": {
          "base_uri": "https://localhost:8080/"
        },
        "id": "65p6Lg5gE9jO",
        "outputId": "9a2e79d4-2747-402b-c977-75cdbc4471b0"
      },
      "outputs": [
        {
          "output_type": "stream",
          "name": "stdout",
          "text": [
            "Epoch 1/25\n",
            "1875/1875 [==============================] - 7s 3ms/step - loss: 3.1217 - accuracy: 0.1221\n",
            "Epoch 2/25\n",
            "1875/1875 [==============================] - 8s 4ms/step - loss: 2.3668 - accuracy: 0.1124\n",
            "Epoch 3/25\n",
            "1875/1875 [==============================] - 7s 4ms/step - loss: 2.3673 - accuracy: 0.1124\n",
            "Epoch 4/25\n",
            "1875/1875 [==============================] - 7s 4ms/step - loss: 2.3673 - accuracy: 0.1124\n",
            "Epoch 5/25\n",
            "1875/1875 [==============================] - 6s 3ms/step - loss: 2.3673 - accuracy: 0.1124\n",
            "Epoch 6/25\n",
            "1875/1875 [==============================] - 7s 4ms/step - loss: 2.3673 - accuracy: 0.1124\n",
            "Epoch 7/25\n",
            "1875/1875 [==============================] - 6s 3ms/step - loss: 2.3673 - accuracy: 0.1124\n",
            "Epoch 8/25\n",
            "1875/1875 [==============================] - 7s 4ms/step - loss: 2.3673 - accuracy: 0.1124\n",
            "Epoch 9/25\n",
            "1875/1875 [==============================] - 7s 4ms/step - loss: 2.3673 - accuracy: 0.1124\n",
            "Epoch 10/25\n",
            "1875/1875 [==============================] - 7s 4ms/step - loss: 2.3674 - accuracy: 0.1124\n",
            "Epoch 11/25\n",
            "1875/1875 [==============================] - 6s 3ms/step - loss: 2.3674 - accuracy: 0.1124\n",
            "Epoch 12/25\n",
            "1875/1875 [==============================] - 7s 4ms/step - loss: 2.3674 - accuracy: 0.1124\n",
            "Epoch 13/25\n",
            "1875/1875 [==============================] - 7s 4ms/step - loss: 2.3674 - accuracy: 0.1124\n",
            "Epoch 14/25\n",
            "1875/1875 [==============================] - 7s 4ms/step - loss: 2.3673 - accuracy: 0.1124\n",
            "Epoch 15/25\n",
            "1875/1875 [==============================] - 7s 4ms/step - loss: 2.3674 - accuracy: 0.1124\n",
            "Epoch 16/25\n",
            "1875/1875 [==============================] - 6s 3ms/step - loss: 2.3674 - accuracy: 0.1124\n",
            "Epoch 17/25\n",
            "1875/1875 [==============================] - 8s 4ms/step - loss: 2.3674 - accuracy: 0.1124\n",
            "Epoch 18/25\n",
            "1875/1875 [==============================] - 7s 4ms/step - loss: 2.3673 - accuracy: 0.1124\n",
            "Epoch 19/25\n",
            "1875/1875 [==============================] - 8s 4ms/step - loss: 2.3673 - accuracy: 0.1124\n",
            "Epoch 20/25\n",
            "1875/1875 [==============================] - 6s 3ms/step - loss: 2.3673 - accuracy: 0.1124\n",
            "Epoch 21/25\n",
            "1875/1875 [==============================] - 7s 4ms/step - loss: 2.3673 - accuracy: 0.1124\n",
            "Epoch 22/25\n",
            "1875/1875 [==============================] - 6s 3ms/step - loss: 2.3673 - accuracy: 0.1124\n",
            "Epoch 23/25\n",
            "1875/1875 [==============================] - 8s 4ms/step - loss: 2.3673 - accuracy: 0.1124\n",
            "Epoch 24/25\n",
            "1875/1875 [==============================] - 6s 3ms/step - loss: 2.3673 - accuracy: 0.1124\n",
            "Epoch 25/25\n",
            "1875/1875 [==============================] - 8s 4ms/step - loss: 2.3673 - accuracy: 0.1124\n"
          ]
        }
      ],
      "source": [
        "train_info = model.fit(new_train_data , new_train_target , epochs = 25)"
      ]
    },
    {
      "cell_type": "markdown",
      "source": [
        "Plot the loss and accuracy graphs"
      ],
      "metadata": {
        "id": "cwR1pYCBSl6w"
      }
    },
    {
      "cell_type": "code",
      "execution_count": 11,
      "metadata": {
        "colab": {
          "base_uri": "https://localhost:8080/",
          "height": 472
        },
        "id": "nIHMcTjME9jP",
        "outputId": "26636051-f9e9-4c51-b757-0d639c5fba1d"
      },
      "outputs": [
        {
          "output_type": "display_data",
          "data": {
            "text/plain": [
              "<Figure size 640x480 with 1 Axes>"
            ],
            "image/png": "[encoded data removed]"
          },
          "metadata": {}
        }
      ],
      "source": [
        "plt.plot(train_info.history['loss'])\n",
        "plt.xlabel('epochs')\n",
        "plt.ylabel('loss')\n",
        "plt.title('Model loss')\n",
        "plt.show()"
      ]
    },
    {
      "cell_type": "code",
      "execution_count": 12,
      "metadata": {
        "colab": {
          "base_uri": "https://localhost:8080/",
          "height": 472
        },
        "id": "T6DnvAP3E9jP",
        "outputId": "25147894-73fb-4cad-ee73-f7c0bba0b710"
      },
      "outputs": [
        {
          "output_type": "display_data",
          "data": {
            "text/plain": [
              "<Figure size 640x480 with 1 Axes>"
            ],
            "image/png": "[encoded data removed]"
          },
          "metadata": {}
        }
      ],
      "source": [
        "plt.plot(train_info.history['accuracy'])\n",
        "plt.xlabel('epochs')\n",
        "plt.ylabel('accuracy')\n",
        "plt.title('Model accuracy')\n",
        "plt.show()"
      ]
    },
    {
      "cell_type": "markdown",
      "source": [
        "Test the performance of Model"
      ],
      "metadata": {
        "id": "lHY3ygUVTkmo"
      }
    },
    {
      "cell_type": "code",
      "execution_count": 13,
      "metadata": {
        "colab": {
          "base_uri": "https://localhost:8080/"
        },
        "id": "vLSwDA7DE9jQ",
        "outputId": "1c11e27f-9cce-4a04-ace1-83793f12612b"
      },
      "outputs": [
        {
          "output_type": "stream",
          "name": "stdout",
          "text": [
            "313/313 [==============================] - 1s 2ms/step - loss: 2.3671 - accuracy: 0.1135\n",
            "Loss of the Test dataset is: 2.367122173309326\n",
            "Accuracy of the test dataset is: 0.11349999904632568\n"
          ]
        }
      ],
      "source": [
        "loss, acc = model.evaluate(new_test_data , new_test_target)\n",
        "print(f'Loss of the Test dataset is: {loss}\\nAccuracy of the test dataset is: {acc}')"
      ]
    },
    {
      "cell_type": "markdown",
      "source": [
        "Save the model weights"
      ],
      "metadata": {
        "id": "gNAp8ycXU7ph"
      }
    },
    {
      "cell_type": "code",
      "execution_count": 18,
      "metadata": {
        "id": "anSo8CJ3E9jR"
      },
      "outputs": [],
      "source": [
        "model.save_weights('MNIST_WEIGHTS_V1.h5')"
      ]
    },
    {
      "cell_type": "code",
      "source": [],
      "metadata": {
        "id": "PqoTOwvgbEir"
      },
      "execution_count": null,
      "outputs": []
    }
  ],
  "metadata": {
    "kernelspec": {
      "display_name": "Python 3",
      "language": "python",
      "name": "python3"
    },
    "language_info": {
      "codemirror_mode": {
        "name": "ipython",
        "version": 3
      },
      "file_extension": ".py",
      "mimetype": "text/x-python",
      "name": "python",
      "nbconvert_exporter": "python",
      "pygments_lexer": "ipython3",
      "version": "3.8.8"
    },
    "colab": {
      "provenance": [],
      "include_colab_link": true
    }
  },
  "nbformat": 4,
  "nbformat_minor": 0
}